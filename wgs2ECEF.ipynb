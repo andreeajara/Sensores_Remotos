{
 "metadata": {
  "name": ""
 },
 "nbformat": 3,
 "nbformat_minor": 0,
 "worksheets": [
  {
   "cells": [
    {
     "cell_type": "code",
     "collapsed": false,
     "input": [
      "%pylab inline"
     ],
     "language": "python",
     "metadata": {},
     "outputs": [
      {
       "output_type": "stream",
       "stream": "stdout",
       "text": [
        "Populating the interactive namespace from numpy and matplotlib\n"
       ]
      }
     ],
     "prompt_number": 1
    },
    {
     "cell_type": "code",
     "collapsed": false,
     "input": [
      "def toECEF(lat,lon,h):\n",
      "    \n",
      "    a=6378137 #m\n",
      "    f=1/298.257223563\n",
      "    ec=2*f-f**2\n",
      "    \n",
      "    N=a/(sqrt(1-((ec**2)*(sin(radians(lat))))))\n",
      "    \n",
      "    X=(N+h)*cos(radians(lat))*cos(radians(lon))\n",
      "    Y=(N+h)*cos(radians(lat))*sin(radians(lon))\n",
      "    Z=(N*(1-ec**2)+h)*sin(radians(lat))\n",
      "    return X, Y, Z"
     ],
     "language": "python",
     "metadata": {},
     "outputs": [],
     "prompt_number": 7
    },
    {
     "cell_type": "code",
     "collapsed": false,
     "input": [
      "toECEF(4.602794,-74.066108,2639) #in m"
     ],
     "language": "python",
     "metadata": {},
     "outputs": [
      {
       "metadata": {},
       "output_type": "pyout",
       "prompt_number": 8,
       "text": [
        "(1746055.9393857752, -6115844.1701438138, 512019.50684416201)"
       ]
      }
     ],
     "prompt_number": 8
    },
    {
     "cell_type": "code",
     "collapsed": false,
     "input": [],
     "language": "python",
     "metadata": {},
     "outputs": []
    }
   ],
   "metadata": {}
  }
 ]
}